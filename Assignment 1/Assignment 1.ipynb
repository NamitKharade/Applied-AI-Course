{
 "cells": [
  {
   "cell_type": "markdown",
   "metadata": {},
   "source": [
    "### 1. Write a function that inputs a number and prints the multiplication table of that number"
   ]
  },
  {
   "cell_type": "code",
   "execution_count": 10,
   "metadata": {},
   "outputs": [
    {
     "name": "stdout",
     "output_type": "stream",
     "text": [
      "Enter the number: 2\n",
      "2 x 1 = 2\n",
      "2 x 2 = 4\n",
      "2 x 3 = 6\n",
      "2 x 4 = 8\n",
      "2 x 5 = 10\n",
      "2 x 6 = 12\n",
      "2 x 7 = 14\n",
      "2 x 8 = 16\n",
      "2 x 9 = 18\n",
      "2 x 10 = 20\n"
     ]
    }
   ],
   "source": [
    "def mul_table():\n",
    "    num = int(input(\"Enter the number: \"))\n",
    "    for i in range(1,11):\n",
    "        print(\"{} x {} = {}\".format(num,i,num*i))\n",
    "\n",
    "mul_table()"
   ]
  },
  {
   "cell_type": "markdown",
   "metadata": {},
   "source": [
    "### 2. Write a program to print twin primes less than 1000. If two consecutive odd numbers are both prime then they are known as twin primes"
   ]
  },
  {
   "cell_type": "code",
   "execution_count": 25,
   "metadata": {},
   "outputs": [
    {
     "name": "stdout",
     "output_type": "stream",
     "text": [
      " 3, 5\n",
      " 5, 7\n",
      " 11, 13\n",
      " 17, 19\n",
      " 29, 31\n",
      " 41, 43\n",
      " 59, 61\n",
      " 71, 73\n",
      " 101, 103\n",
      " 107, 109\n",
      " 137, 139\n",
      " 149, 151\n",
      " 179, 181\n",
      " 191, 193\n",
      " 197, 199\n",
      " 227, 229\n",
      " 239, 241\n",
      " 269, 271\n",
      " 281, 283\n",
      " 311, 313\n",
      " 347, 349\n",
      " 419, 421\n",
      " 431, 433\n",
      " 461, 463\n",
      " 521, 523\n",
      " 569, 571\n",
      " 599, 601\n",
      " 617, 619\n",
      " 641, 643\n",
      " 659, 661\n",
      " 809, 811\n",
      " 821, 823\n",
      " 827, 829\n",
      " 857, 859\n",
      " 881, 883\n"
     ]
    }
   ],
   "source": [
    "def prime(no):\n",
    "    for num in range (2, no):\n",
    "        if no % num == 0:\n",
    "            return False\n",
    "    return True\n",
    "\n",
    "def twinPrime():\n",
    "    for num in range(2, 1001):\n",
    "        num_2 = num + 2\n",
    "        if (prime(num) and prime(num_2)):\n",
    "            print(\" {}, {}\".format(num, num_2))\n",
    "\n",
    "twinPrime()"
   ]
  },
  {
   "cell_type": "markdown",
   "metadata": {},
   "source": [
    "### 3. Write a program to find out the prime factors of a number. Example: prime factors of 56 - 2, 2, 2, 7"
   ]
  },
  {
   "cell_type": "code",
   "execution_count": 2,
   "metadata": {},
   "outputs": [
    {
     "name": "stdout",
     "output_type": "stream",
     "text": [
      "Enter the number: 56\n",
      "2 \n",
      "2 \n",
      "2 \n",
      "7\n"
     ]
    }
   ],
   "source": [
    "def PrimeFactor():\n",
    "    num = int(input(\"Enter the number: \"))\n",
    "    while num % 2 == 0:\n",
    "        print(\"2 \")\n",
    "        num //= 2   \n",
    "    for i in range(3,num,2):\n",
    "        while num % i == 0:\n",
    "            print(i)\n",
    "            num //= i\n",
    "    if num > 2:\n",
    "        print(num)\n",
    "        \n",
    "PrimeFactor()    "
   ]
  },
  {
   "cell_type": "markdown",
   "metadata": {},
   "source": [
    "### 4. Write a program to implement these formulae of permutations and combinations. Number of permutations of n objects taken r at a time: p(n, r) = n! / (n-r)!. Number of combinations of n objects taken r at a time is: c(n, r) = n! / (r!*(n-r)!) = p(n,r) / r!"
   ]
  },
  {
   "cell_type": "code",
   "execution_count": 5,
   "metadata": {},
   "outputs": [
    {
     "name": "stdout",
     "output_type": "stream",
     "text": [
      "n: 5\n",
      "r: 2\n",
      "Permutation: 20.0 \n",
      "Combination: 10.0\n"
     ]
    }
   ],
   "source": [
    "def permutation(n,r):\n",
    "    per = factorial(n)/factorial(n-r)\n",
    "    return per\n",
    "\n",
    "def combination(n,r):\n",
    "    comb = permutation(n,r)/factorial(r)\n",
    "    return comb\n",
    "    \n",
    "def factorial(num):\n",
    "    fact = 1\n",
    "    for i in range(1,num+1):\n",
    "        fact *= i\n",
    "    return fact\n",
    "\n",
    "n = int(input(\"n: \"))\n",
    "r = int(input(\"r: \"))\n",
    "p = permutation(n,r)\n",
    "c = combination(n,r)\n",
    "print(\"Permutation: {} \\nCombination: {}\".format(p,c))"
   ]
  },
  {
   "cell_type": "markdown",
   "metadata": {},
   "source": [
    "### 5. Write a function that converts a decimal number to binary number"
   ]
  },
  {
   "cell_type": "code",
   "execution_count": 9,
   "metadata": {},
   "outputs": [
    {
     "name": "stdout",
     "output_type": "stream",
     "text": [
      "Enter a decimal number: 25\n",
      "1 1 0 0 1 "
     ]
    }
   ],
   "source": [
    "def DecToBin(dnum):\n",
    "    if dnum > 1 :\n",
    "        DecToBin(dnum//2)\n",
    "    print(dnum%2, end=' ')\n",
    "\n",
    "dnum = int(input(\"Enter a decimal number: \"))\n",
    "DecToBin(dnum)"
   ]
  },
  {
   "cell_type": "markdown",
   "metadata": {},
   "source": [
    "### 6. Write a function cubesum() that accepts an integer and returns the sum of the cubes of individual digits of that number. Use this function to make functions PrintArmstrong() and isArmstrong() to print Armstrong numbers and to find whether is an Armstrong number."
   ]
  },
  {
   "cell_type": "code",
   "execution_count": 17,
   "metadata": {},
   "outputs": [
    {
     "name": "stdout",
     "output_type": "stream",
     "text": [
      "Start: 0\n",
      "End: 1000\n",
      "0, 1, 153, 370, 371, 407, "
     ]
    },
    {
     "data": {
      "text/plain": [
       "True"
      ]
     },
     "execution_count": 17,
     "metadata": {},
     "output_type": "execute_result"
    }
   ],
   "source": [
    "def cubesum(num):\n",
    "    sum = 0\n",
    "    while(num != 0):\n",
    "        sum += (num % 10)**3\n",
    "        num //=10\n",
    "    return sum\n",
    "\n",
    "def isArmstrong(num):\n",
    "    if num == cubesum(num):\n",
    "        return True\n",
    "    else :\n",
    "        return False\n",
    "        \n",
    "def PrintArmstrong():\n",
    "    s = int(input(\"Start: \"))\n",
    "    e = int(input(\"End: \"))\n",
    "    for i in range(s,e+1):\n",
    "        res = isArmstrong(i)\n",
    "        if res:\n",
    "            print(i , end = ', ')\n",
    "    \n",
    "PrintArmstrong()\n",
    "isArmstrong(153)"
   ]
  },
  {
   "cell_type": "markdown",
   "metadata": {},
   "source": [
    "### 7. Write a function prodDigits() that inputs a number and returns the product of digits of that number."
   ]
  },
  {
   "cell_type": "code",
   "execution_count": 26,
   "metadata": {},
   "outputs": [
    {
     "name": "stdout",
     "output_type": "stream",
     "text": [
      "Enter the number: 256\n",
      "60\n"
     ]
    }
   ],
   "source": [
    "def prodDigits(num):\n",
    "    prod = 1\n",
    "    while(num != 0):\n",
    "        prod *= (num % 10)\n",
    "        num //=10\n",
    "    return prod\n",
    "\n",
    "num = int(input(\"Enter the number: \"))\n",
    "prod = prodDigits(num)\n",
    "print(prod)"
   ]
  },
  {
   "cell_type": "markdown",
   "metadata": {},
   "source": [
    "### 8. If all digits of a number n are multiplied by each other repeating with the product, the one digit number obtained at last is called the multiplicative digital root of n. The number of times digits need to be multiplied to reach one digit is called the multiplicative persistance of n. Example: 86 -> 48 -> 32 -> 6 (MDR 6, MPersistence 3)  341 -> 12->2 (MDR 2, MPersistence 2) \n",
    "### Using the function prodDigits() of previous exercise write functions MDR() and MPersistence() that input a number and return its multiplicative digital root and multiplicative persistence respectively"
   ]
  },
  {
   "cell_type": "code",
   "execution_count": 29,
   "metadata": {},
   "outputs": [
    {
     "name": "stdout",
     "output_type": "stream",
     "text": [
      "Enter the number: 86\n",
      "Multiplicative digital root of 86: 6 \n",
      "Multiplicative persistence of 86: 3\n"
     ]
    }
   ],
   "source": [
    "def MDR(no):\n",
    "    mper = 0\n",
    "    while no % 10 != no :\n",
    "        no = prodDigits(no)\n",
    "        mper += 1\n",
    "    return (no,mper)\n",
    "\n",
    "no = int(input(\"Enter the number: \"))\n",
    "mdr,mper = MDR(no)\n",
    "print(\"Multiplicative digital root of {0}: {1} \\nMultiplicative persistence of {0}: {2}\".format(no,mdr,mper))"
   ]
  },
  {
   "cell_type": "markdown",
   "metadata": {},
   "source": [
    "### 9. Write a function sumPdivisors() that finds the sum of proper divisors of a number. Proper divisors of a number are those numbers by which the number is divisible, except the number itself. For example proper divisors of 36 are 1, 2, 3, 4, 6, 9, 18"
   ]
  },
  {
   "cell_type": "code",
   "execution_count": 2,
   "metadata": {},
   "outputs": [
    {
     "name": "stdout",
     "output_type": "stream",
     "text": [
      "Number: 36\n",
      "55\n"
     ]
    }
   ],
   "source": [
    "def sumPdivisors(num):\n",
    "    sum = 0\n",
    "    for i in range(1,num):\n",
    "        if num % i == 0:\n",
    "            sum += i\n",
    "    return sum\n",
    "    \n",
    "no = int(input(\"Number: \"))\n",
    "s = sumPdivisors(no)\n",
    "print(s)"
   ]
  },
  {
   "cell_type": "markdown",
   "metadata": {},
   "source": [
    "### 10. A number is called perfect if the sum of proper divisors of that number is equal to the number. For example 28 is perfect number, since 1+2+4+7+14=28. Write a program to print all the perfect numbers in a given range"
   ]
  },
  {
   "cell_type": "code",
   "execution_count": 44,
   "metadata": {},
   "outputs": [
    {
     "name": "stdout",
     "output_type": "stream",
     "text": [
      "Enter the range: 0 1000\n",
      "0\n",
      "6\n",
      "28\n",
      "496\n"
     ]
    }
   ],
   "source": [
    "def perfect(num):\n",
    "    if num == sumPdivisors(num):\n",
    "        return True\n",
    "    else:\n",
    "        return False\n",
    "    \n",
    "s, e = map(int, input(\"Enter the range: \").split())\n",
    "for i in range(s,e+1):\n",
    "    if perfect(i):\n",
    "        print(i)"
   ]
  },
  {
   "cell_type": "markdown",
   "metadata": {},
   "source": [
    "### 11. Two different numbers are called amicable numbers if the sum of the proper divisors of each is equal to the other number. For example 220 and 284 are amicable numbers."
   ]
  },
  {
   "cell_type": "code",
   "execution_count": 5,
   "metadata": {},
   "outputs": [
    {
     "name": "stdout",
     "output_type": "stream",
     "text": [
      "Enter the range: 0 1000\n",
      "220 284\n"
     ]
    }
   ],
   "source": [
    "def amicable(num1,num2):\n",
    "    if sumPdivisors(num1) == num2 and sumPdivisors(num2) == num1:\n",
    "        return True\n",
    "    else:\n",
    "        return False\n",
    "\n",
    "s, e = map(int, input(\"Enter the range: \").split())\n",
    "for x in range(s, e+1):\n",
    "        for y in range(x, e+1):\n",
    "            if x != y:\n",
    "                if amicable(x, y):\n",
    "                    print(x, y)"
   ]
  },
  {
   "cell_type": "markdown",
   "metadata": {},
   "source": [
    "### 12. Write a program which can filter odd numbers in a list by using filter function"
   ]
  },
  {
   "cell_type": "code",
   "execution_count": 13,
   "metadata": {},
   "outputs": [
    {
     "name": "stdout",
     "output_type": "stream",
     "text": [
      "[1, 3, 5, 7, 9]\n"
     ]
    }
   ],
   "source": [
    "def filterOdd(lst):\n",
    "    odd = []\n",
    "    for i in lst:\n",
    "        if i % 2 ==1:\n",
    "            odd.append(i)\n",
    "    return odd\n",
    "\n",
    "odd = filterOdd([0,1,2,3,4,5,6,7,8,9])\n",
    "print(odd)"
   ]
  },
  {
   "cell_type": "markdown",
   "metadata": {},
   "source": [
    "### 13. Write a program which can map() to make a list whose elements are cube of elements in a given list"
   ]
  },
  {
   "cell_type": "code",
   "execution_count": 21,
   "metadata": {},
   "outputs": [
    {
     "name": "stdout",
     "output_type": "stream",
     "text": [
      "[1, 8, 27, 64, 125, 216, 343, 512, 729]\n"
     ]
    }
   ],
   "source": [
    "def cube(lst):\n",
    "    return list(map(lambda x: x**3, lst))\n",
    "\n",
    "lst = cube([1,2,3,4,5,6,7,8,9])\n",
    "print(lst)"
   ]
  },
  {
   "cell_type": "markdown",
   "metadata": {},
   "source": [
    "### 14. Write a program which can map() and filter() to make a list whose elements are cube of even number in a given list"
   ]
  },
  {
   "cell_type": "code",
   "execution_count": 29,
   "metadata": {},
   "outputs": [
    {
     "name": "stdout",
     "output_type": "stream",
     "text": [
      "[8, 64, 216, 512]\n"
     ]
    }
   ],
   "source": [
    "def MapnFilter(x):\n",
    "    return list(map(lambda y : y **3 ,filter(lambda i : i % 2 == 0,x)))\n",
    "\n",
    "print(MapnFilter([1,2,3,4,5,6,7,8,9]))"
   ]
  },
  {
   "cell_type": "code",
   "execution_count": null,
   "metadata": {},
   "outputs": [],
   "source": []
  },
  {
   "cell_type": "code",
   "execution_count": null,
   "metadata": {},
   "outputs": [],
   "source": []
  }
 ],
 "metadata": {
  "kernelspec": {
   "display_name": "Python 3",
   "language": "python",
   "name": "python3"
  },
  "language_info": {
   "codemirror_mode": {
    "name": "ipython",
    "version": 3
   },
   "file_extension": ".py",
   "mimetype": "text/x-python",
   "name": "python",
   "nbconvert_exporter": "python",
   "pygments_lexer": "ipython3",
   "version": "3.6.5"
  }
 },
 "nbformat": 4,
 "nbformat_minor": 2
}
